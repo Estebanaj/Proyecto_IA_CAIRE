{
 "cells": [
  {
   "cell_type": "code",
   "execution_count": 3,
   "metadata": {},
   "outputs": [],
   "source": [
    "import pandas as pd\n",
    "import matplotlib.pyplot as plt\n",
    "import seaborn as sns\n",
    "from sklearn.preprocessing import StandardScaler\n",
    "from sklearn.cluster import KMeans\n",
    "from sklearn.model_selection import train_test_split\n",
    "from sklearn.tree import DecisionTreeRegressor, plot_tree\n",
    "pd.set_option('display.max_columns', None)"
   ]
  },
  {
   "cell_type": "code",
   "execution_count": 6,
   "metadata": {},
   "outputs": [],
   "source": [
    "df = pd.read_csv('../Data/CancerCvs.csv', sep=';')"
   ]
  },
  {
   "cell_type": "code",
   "execution_count": 7,
   "metadata": {},
   "outputs": [],
   "source": [
    "def null_percentage(df):\n",
    "    \"\"\"\n",
    "    Returns a DataFrame with the percentage of null (NaN) values per column.\n",
    "    \"\"\"\n",
    "    percentage = df.isnull().mean() * 100\n",
    "    return percentage.to_frame(name='Null Percentage')\n",
    "\n",
    "\n",
    "def zero_percentage(df):\n",
    "    \"\"\"\n",
    "    Returns a DataFrame with the percentage of zero values per column.\n",
    "    \"\"\"\n",
    "    percentage = (df == 0).mean() * 100\n",
    "    return percentage.to_frame(name='Zero Percentage')"
   ]
  },
  {
   "cell_type": "code",
   "execution_count": 8,
   "metadata": {},
   "outputs": [
    {
     "data": {
      "text/html": [
       "<div>\n",
       "<style scoped>\n",
       "    .dataframe tbody tr th:only-of-type {\n",
       "        vertical-align: middle;\n",
       "    }\n",
       "\n",
       "    .dataframe tbody tr th {\n",
       "        vertical-align: top;\n",
       "    }\n",
       "\n",
       "    .dataframe thead th {\n",
       "        text-align: right;\n",
       "    }\n",
       "</style>\n",
       "<table border=\"1\" class=\"dataframe\">\n",
       "  <thead>\n",
       "    <tr style=\"text-align: right;\">\n",
       "      <th></th>\n",
       "      <th>Patient_ID</th>\n",
       "      <th>Age</th>\n",
       "      <th>Gender</th>\n",
       "      <th>Nationality</th>\n",
       "      <th>Emirate</th>\n",
       "      <th>Diagnosis_Date</th>\n",
       "      <th>Cancer_Type</th>\n",
       "      <th>Cancer_Stage</th>\n",
       "      <th>Treatment_Type</th>\n",
       "      <th>Treatment_Start_Date</th>\n",
       "      <th>Hospital</th>\n",
       "      <th>Primary_Physician</th>\n",
       "      <th>Outcome</th>\n",
       "      <th>Death_Date</th>\n",
       "      <th>Cause_of_Death</th>\n",
       "      <th>Smoking_Status</th>\n",
       "      <th>Comorbidities</th>\n",
       "      <th>Ethnicity</th>\n",
       "      <th>Weight</th>\n",
       "      <th>Height</th>\n",
       "    </tr>\n",
       "  </thead>\n",
       "  <tbody>\n",
       "    <tr>\n",
       "      <th>0</th>\n",
       "      <td>PAT000001</td>\n",
       "      <td>69</td>\n",
       "      <td>Female</td>\n",
       "      <td>Emirati</td>\n",
       "      <td>Umm Al Quwain</td>\n",
       "      <td>30/11/2020</td>\n",
       "      <td>Liver</td>\n",
       "      <td>II</td>\n",
       "      <td>Radiation</td>\n",
       "      <td>4/12/2020</td>\n",
       "      <td>Sheikh Khalifa Hospital</td>\n",
       "      <td>Dr. VO41</td>\n",
       "      <td>Recovered</td>\n",
       "      <td>NaN</td>\n",
       "      <td>NaN</td>\n",
       "      <td>Non-Smoker</td>\n",
       "      <td>NaN</td>\n",
       "      <td>European</td>\n",
       "      <td>61</td>\n",
       "      <td>157</td>\n",
       "    </tr>\n",
       "    <tr>\n",
       "      <th>1</th>\n",
       "      <td>PAT000002</td>\n",
       "      <td>32</td>\n",
       "      <td>Male</td>\n",
       "      <td>Emirati</td>\n",
       "      <td>Umm Al Quwain</td>\n",
       "      <td>10/10/2015</td>\n",
       "      <td>Leukemia</td>\n",
       "      <td>III</td>\n",
       "      <td>Surgery</td>\n",
       "      <td>5/11/2015</td>\n",
       "      <td>Dubai Hospital</td>\n",
       "      <td>Dr. SM31</td>\n",
       "      <td>Recovered</td>\n",
       "      <td>NaN</td>\n",
       "      <td>NaN</td>\n",
       "      <td>Smoker</td>\n",
       "      <td>NaN</td>\n",
       "      <td>South Asian</td>\n",
       "      <td>80</td>\n",
       "      <td>175</td>\n",
       "    </tr>\n",
       "    <tr>\n",
       "      <th>2</th>\n",
       "      <td>PAT000003</td>\n",
       "      <td>89</td>\n",
       "      <td>Male</td>\n",
       "      <td>Emirati</td>\n",
       "      <td>Abu Dhabi</td>\n",
       "      <td>13/02/2018</td>\n",
       "      <td>Liver</td>\n",
       "      <td>III</td>\n",
       "      <td>Radiation</td>\n",
       "      <td>3/08/2018</td>\n",
       "      <td>Zayed Military Hospital</td>\n",
       "      <td>Dr. BC7</td>\n",
       "      <td>Under Treatment</td>\n",
       "      <td>NaN</td>\n",
       "      <td>NaN</td>\n",
       "      <td>Non-Smoker</td>\n",
       "      <td>NaN</td>\n",
       "      <td>South Asian</td>\n",
       "      <td>50</td>\n",
       "      <td>175</td>\n",
       "    </tr>\n",
       "    <tr>\n",
       "      <th>3</th>\n",
       "      <td>PAT000004</td>\n",
       "      <td>78</td>\n",
       "      <td>Female</td>\n",
       "      <td>Emirati</td>\n",
       "      <td>Abu Dhabi</td>\n",
       "      <td>4/02/2022</td>\n",
       "      <td>Lung</td>\n",
       "      <td>III</td>\n",
       "      <td>Radiation</td>\n",
       "      <td>13/03/2022</td>\n",
       "      <td>Cleveland Clinic Abu Dhabi</td>\n",
       "      <td>Dr. TC14</td>\n",
       "      <td>Recovered</td>\n",
       "      <td>NaN</td>\n",
       "      <td>NaN</td>\n",
       "      <td>Former Smoker</td>\n",
       "      <td>NaN</td>\n",
       "      <td>African</td>\n",
       "      <td>44</td>\n",
       "      <td>155</td>\n",
       "    </tr>\n",
       "    <tr>\n",
       "      <th>4</th>\n",
       "      <td>PAT000005</td>\n",
       "      <td>38</td>\n",
       "      <td>Female</td>\n",
       "      <td>Emirati</td>\n",
       "      <td>Fujairah</td>\n",
       "      <td>3/12/2019</td>\n",
       "      <td>Pancreatic</td>\n",
       "      <td>II</td>\n",
       "      <td>Chemotherapy</td>\n",
       "      <td>29/02/2020</td>\n",
       "      <td>Sheikh Khalifa Hospital</td>\n",
       "      <td>Dr. YS37</td>\n",
       "      <td>Recovered</td>\n",
       "      <td>NaN</td>\n",
       "      <td>NaN</td>\n",
       "      <td>Former Smoker</td>\n",
       "      <td>NaN</td>\n",
       "      <td>East Asian</td>\n",
       "      <td>101</td>\n",
       "      <td>160</td>\n",
       "    </tr>\n",
       "  </tbody>\n",
       "</table>\n",
       "</div>"
      ],
      "text/plain": [
       "  Patient_ID  Age  Gender Nationality        Emirate Diagnosis_Date  \\\n",
       "0  PAT000001   69  Female     Emirati  Umm Al Quwain     30/11/2020   \n",
       "1  PAT000002   32    Male     Emirati  Umm Al Quwain     10/10/2015   \n",
       "2  PAT000003   89    Male     Emirati      Abu Dhabi     13/02/2018   \n",
       "3  PAT000004   78  Female     Emirati      Abu Dhabi      4/02/2022   \n",
       "4  PAT000005   38  Female     Emirati       Fujairah      3/12/2019   \n",
       "\n",
       "  Cancer_Type Cancer_Stage Treatment_Type Treatment_Start_Date  \\\n",
       "0       Liver           II      Radiation            4/12/2020   \n",
       "1    Leukemia          III        Surgery            5/11/2015   \n",
       "2       Liver          III      Radiation            3/08/2018   \n",
       "3        Lung          III      Radiation           13/03/2022   \n",
       "4  Pancreatic           II   Chemotherapy           29/02/2020   \n",
       "\n",
       "                     Hospital Primary_Physician          Outcome Death_Date  \\\n",
       "0     Sheikh Khalifa Hospital          Dr. VO41        Recovered        NaN   \n",
       "1              Dubai Hospital          Dr. SM31        Recovered        NaN   \n",
       "2     Zayed Military Hospital           Dr. BC7  Under Treatment        NaN   \n",
       "3  Cleveland Clinic Abu Dhabi          Dr. TC14        Recovered        NaN   \n",
       "4     Sheikh Khalifa Hospital          Dr. YS37        Recovered        NaN   \n",
       "\n",
       "  Cause_of_Death Smoking_Status Comorbidities    Ethnicity  Weight  Height  \n",
       "0            NaN     Non-Smoker           NaN     European      61     157  \n",
       "1            NaN         Smoker           NaN  South Asian      80     175  \n",
       "2            NaN     Non-Smoker           NaN  South Asian      50     175  \n",
       "3            NaN  Former Smoker           NaN      African      44     155  \n",
       "4            NaN  Former Smoker           NaN   East Asian     101     160  "
      ]
     },
     "execution_count": 8,
     "metadata": {},
     "output_type": "execute_result"
    }
   ],
   "source": [
    "df = pd.read_csv('../Data/CancerCvs.csv', sep=';')\n",
    "df.head()"
   ]
  },
  {
   "cell_type": "code",
   "execution_count": 9,
   "metadata": {},
   "outputs": [
    {
     "data": {
      "text/plain": [
       "Index(['Patient_ID', 'Age', 'Gender', 'Nationality', 'Emirate',\n",
       "       'Diagnosis_Date', 'Cancer_Type', 'Cancer_Stage', 'Treatment_Type',\n",
       "       'Treatment_Start_Date', 'Hospital', 'Primary_Physician', 'Outcome',\n",
       "       'Death_Date', 'Cause_of_Death', 'Smoking_Status', 'Comorbidities',\n",
       "       'Ethnicity', 'Weight', 'Height'],\n",
       "      dtype='object')"
      ]
     },
     "execution_count": 9,
     "metadata": {},
     "output_type": "execute_result"
    }
   ],
   "source": [
    "df.columns"
   ]
  },
  {
   "cell_type": "code",
   "execution_count": 10,
   "metadata": {},
   "outputs": [
    {
     "data": {
      "text/html": [
       "<div>\n",
       "<style scoped>\n",
       "    .dataframe tbody tr th:only-of-type {\n",
       "        vertical-align: middle;\n",
       "    }\n",
       "\n",
       "    .dataframe tbody tr th {\n",
       "        vertical-align: top;\n",
       "    }\n",
       "\n",
       "    .dataframe thead th {\n",
       "        text-align: right;\n",
       "    }\n",
       "</style>\n",
       "<table border=\"1\" class=\"dataframe\">\n",
       "  <thead>\n",
       "    <tr style=\"text-align: right;\">\n",
       "      <th></th>\n",
       "      <th>Null Percentage</th>\n",
       "    </tr>\n",
       "  </thead>\n",
       "  <tbody>\n",
       "    <tr>\n",
       "      <th>Patient_ID</th>\n",
       "      <td>0.00</td>\n",
       "    </tr>\n",
       "    <tr>\n",
       "      <th>Age</th>\n",
       "      <td>0.00</td>\n",
       "    </tr>\n",
       "    <tr>\n",
       "      <th>Gender</th>\n",
       "      <td>0.00</td>\n",
       "    </tr>\n",
       "    <tr>\n",
       "      <th>Nationality</th>\n",
       "      <td>0.00</td>\n",
       "    </tr>\n",
       "    <tr>\n",
       "      <th>Emirate</th>\n",
       "      <td>0.00</td>\n",
       "    </tr>\n",
       "    <tr>\n",
       "      <th>Diagnosis_Date</th>\n",
       "      <td>0.00</td>\n",
       "    </tr>\n",
       "    <tr>\n",
       "      <th>Cancer_Type</th>\n",
       "      <td>0.00</td>\n",
       "    </tr>\n",
       "    <tr>\n",
       "      <th>Cancer_Stage</th>\n",
       "      <td>0.00</td>\n",
       "    </tr>\n",
       "    <tr>\n",
       "      <th>Treatment_Type</th>\n",
       "      <td>0.00</td>\n",
       "    </tr>\n",
       "    <tr>\n",
       "      <th>Treatment_Start_Date</th>\n",
       "      <td>0.00</td>\n",
       "    </tr>\n",
       "    <tr>\n",
       "      <th>Hospital</th>\n",
       "      <td>0.00</td>\n",
       "    </tr>\n",
       "    <tr>\n",
       "      <th>Primary_Physician</th>\n",
       "      <td>0.00</td>\n",
       "    </tr>\n",
       "    <tr>\n",
       "      <th>Outcome</th>\n",
       "      <td>0.00</td>\n",
       "    </tr>\n",
       "    <tr>\n",
       "      <th>Death_Date</th>\n",
       "      <td>90.08</td>\n",
       "    </tr>\n",
       "    <tr>\n",
       "      <th>Cause_of_Death</th>\n",
       "      <td>90.08</td>\n",
       "    </tr>\n",
       "    <tr>\n",
       "      <th>Smoking_Status</th>\n",
       "      <td>0.00</td>\n",
       "    </tr>\n",
       "    <tr>\n",
       "      <th>Comorbidities</th>\n",
       "      <td>40.47</td>\n",
       "    </tr>\n",
       "    <tr>\n",
       "      <th>Ethnicity</th>\n",
       "      <td>0.00</td>\n",
       "    </tr>\n",
       "    <tr>\n",
       "      <th>Weight</th>\n",
       "      <td>0.00</td>\n",
       "    </tr>\n",
       "    <tr>\n",
       "      <th>Height</th>\n",
       "      <td>0.00</td>\n",
       "    </tr>\n",
       "  </tbody>\n",
       "</table>\n",
       "</div>"
      ],
      "text/plain": [
       "                      Null Percentage\n",
       "Patient_ID                       0.00\n",
       "Age                              0.00\n",
       "Gender                           0.00\n",
       "Nationality                      0.00\n",
       "Emirate                          0.00\n",
       "Diagnosis_Date                   0.00\n",
       "Cancer_Type                      0.00\n",
       "Cancer_Stage                     0.00\n",
       "Treatment_Type                   0.00\n",
       "Treatment_Start_Date             0.00\n",
       "Hospital                         0.00\n",
       "Primary_Physician                0.00\n",
       "Outcome                          0.00\n",
       "Death_Date                      90.08\n",
       "Cause_of_Death                  90.08\n",
       "Smoking_Status                   0.00\n",
       "Comorbidities                   40.47\n",
       "Ethnicity                        0.00\n",
       "Weight                           0.00\n",
       "Height                           0.00"
      ]
     },
     "execution_count": 10,
     "metadata": {},
     "output_type": "execute_result"
    }
   ],
   "source": [
    "null_percentage(df)"
   ]
  },
  {
   "cell_type": "code",
   "execution_count": 11,
   "metadata": {},
   "outputs": [
    {
     "data": {
      "text/html": [
       "<div>\n",
       "<style scoped>\n",
       "    .dataframe tbody tr th:only-of-type {\n",
       "        vertical-align: middle;\n",
       "    }\n",
       "\n",
       "    .dataframe tbody tr th {\n",
       "        vertical-align: top;\n",
       "    }\n",
       "\n",
       "    .dataframe thead th {\n",
       "        text-align: right;\n",
       "    }\n",
       "</style>\n",
       "<table border=\"1\" class=\"dataframe\">\n",
       "  <thead>\n",
       "    <tr style=\"text-align: right;\">\n",
       "      <th></th>\n",
       "      <th>Zero Percentage</th>\n",
       "    </tr>\n",
       "  </thead>\n",
       "  <tbody>\n",
       "    <tr>\n",
       "      <th>Patient_ID</th>\n",
       "      <td>0.0</td>\n",
       "    </tr>\n",
       "    <tr>\n",
       "      <th>Age</th>\n",
       "      <td>0.0</td>\n",
       "    </tr>\n",
       "    <tr>\n",
       "      <th>Gender</th>\n",
       "      <td>0.0</td>\n",
       "    </tr>\n",
       "    <tr>\n",
       "      <th>Nationality</th>\n",
       "      <td>0.0</td>\n",
       "    </tr>\n",
       "    <tr>\n",
       "      <th>Emirate</th>\n",
       "      <td>0.0</td>\n",
       "    </tr>\n",
       "    <tr>\n",
       "      <th>Diagnosis_Date</th>\n",
       "      <td>0.0</td>\n",
       "    </tr>\n",
       "    <tr>\n",
       "      <th>Cancer_Type</th>\n",
       "      <td>0.0</td>\n",
       "    </tr>\n",
       "    <tr>\n",
       "      <th>Cancer_Stage</th>\n",
       "      <td>0.0</td>\n",
       "    </tr>\n",
       "    <tr>\n",
       "      <th>Treatment_Type</th>\n",
       "      <td>0.0</td>\n",
       "    </tr>\n",
       "    <tr>\n",
       "      <th>Treatment_Start_Date</th>\n",
       "      <td>0.0</td>\n",
       "    </tr>\n",
       "    <tr>\n",
       "      <th>Hospital</th>\n",
       "      <td>0.0</td>\n",
       "    </tr>\n",
       "    <tr>\n",
       "      <th>Primary_Physician</th>\n",
       "      <td>0.0</td>\n",
       "    </tr>\n",
       "    <tr>\n",
       "      <th>Outcome</th>\n",
       "      <td>0.0</td>\n",
       "    </tr>\n",
       "    <tr>\n",
       "      <th>Death_Date</th>\n",
       "      <td>0.0</td>\n",
       "    </tr>\n",
       "    <tr>\n",
       "      <th>Cause_of_Death</th>\n",
       "      <td>0.0</td>\n",
       "    </tr>\n",
       "    <tr>\n",
       "      <th>Smoking_Status</th>\n",
       "      <td>0.0</td>\n",
       "    </tr>\n",
       "    <tr>\n",
       "      <th>Comorbidities</th>\n",
       "      <td>0.0</td>\n",
       "    </tr>\n",
       "    <tr>\n",
       "      <th>Ethnicity</th>\n",
       "      <td>0.0</td>\n",
       "    </tr>\n",
       "    <tr>\n",
       "      <th>Weight</th>\n",
       "      <td>0.0</td>\n",
       "    </tr>\n",
       "    <tr>\n",
       "      <th>Height</th>\n",
       "      <td>0.0</td>\n",
       "    </tr>\n",
       "  </tbody>\n",
       "</table>\n",
       "</div>"
      ],
      "text/plain": [
       "                      Zero Percentage\n",
       "Patient_ID                        0.0\n",
       "Age                               0.0\n",
       "Gender                            0.0\n",
       "Nationality                       0.0\n",
       "Emirate                           0.0\n",
       "Diagnosis_Date                    0.0\n",
       "Cancer_Type                       0.0\n",
       "Cancer_Stage                      0.0\n",
       "Treatment_Type                    0.0\n",
       "Treatment_Start_Date              0.0\n",
       "Hospital                          0.0\n",
       "Primary_Physician                 0.0\n",
       "Outcome                           0.0\n",
       "Death_Date                        0.0\n",
       "Cause_of_Death                    0.0\n",
       "Smoking_Status                    0.0\n",
       "Comorbidities                     0.0\n",
       "Ethnicity                         0.0\n",
       "Weight                            0.0\n",
       "Height                            0.0"
      ]
     },
     "execution_count": 11,
     "metadata": {},
     "output_type": "execute_result"
    }
   ],
   "source": [
    "zero_percentage(df)"
   ]
  },
  {
   "cell_type": "code",
   "execution_count": 12,
   "metadata": {},
   "outputs": [
    {
     "data": {
      "text/plain": [
       "Patient_ID\n",
       "PAT009984    1\n",
       "PAT009983    1\n",
       "PAT009982    1\n",
       "PAT009981    1\n",
       "PAT009980    1\n",
       "            ..\n",
       "PAT000005    1\n",
       "PAT000004    1\n",
       "PAT000003    1\n",
       "PAT000002    1\n",
       "PAT000001    1\n",
       "Name: count, Length: 10000, dtype: int64"
      ]
     },
     "execution_count": 12,
     "metadata": {},
     "output_type": "execute_result"
    }
   ],
   "source": [
    "df['Patient_ID'].value_counts()\n",
    "# Alta varianza, por tanto se elimina"
   ]
  },
  {
   "cell_type": "code",
   "execution_count": 13,
   "metadata": {},
   "outputs": [
    {
     "data": {
      "text/plain": [
       "<Axes: xlabel='Diagnosis_Date'>"
      ]
     },
     "execution_count": 13,
     "metadata": {},
     "output_type": "execute_result"
    },
    {
     "data": {
      "image/png": "[encoded data removed]",
      "text/plain": [
       "<Figure size 640x480 with 1 Axes>"
      ]
     },
     "metadata": {},
     "output_type": "display_data"
    }
   ],
   "source": [
    "df['Diagnosis_Date'].value_counts().plot(kind='bar', color='skyblue', edgecolor='black')"
   ]
  },
  {
   "cell_type": "code",
   "execution_count": 14,
   "metadata": {},
   "outputs": [],
   "source": [
    "df['Diagnosis_Date'] = pd.to_datetime(df['Diagnosis_Date'], errors='coerce', dayfirst=True)\n",
    "\n",
    "# Extraer el año y el mes\n",
    "df['year'] = df['Diagnosis_Date'].dt.year\n",
    "df['month'] = df['Diagnosis_Date'].dt.month"
   ]
  },
  {
   "cell_type": "code",
   "execution_count": 15,
   "metadata": {},
   "outputs": [
    {
     "name": "stderr",
     "output_type": "stream",
     "text": [
      "C:\\Users\\Esteban\\AppData\\Local\\Temp\\ipykernel_26752\\488727945.py:1: FutureWarning: \n",
      "\n",
      "Passing `palette` without assigning `hue` is deprecated and will be removed in v0.14.0. Assign the `x` variable to `hue` and set `legend=False` for the same effect.\n",
      "\n",
      "  sns.countplot(x='Cancer_Type', data=df, palette='pastel')\n"
     ]
    },
    {
     "data": {
      "text/plain": [
       "<Axes: xlabel='Cancer_Type', ylabel='count'>"
      ]
     },
     "execution_count": 15,
     "metadata": {},
     "output_type": "execute_result"
    },
    {
     "data": {
      "image/png": "[encoded data removed]",
      "text/plain": [
       "<Figure size 640x480 with 1 Axes>"
      ]
     },
     "metadata": {},
     "output_type": "display_data"
    }
   ],
   "source": [
    "sns.countplot(x='Cancer_Type', data=df, palette='pastel')"
   ]
  },
  {
   "cell_type": "code",
   "execution_count": 16,
   "metadata": {},
   "outputs": [
    {
     "data": {
      "text/plain": [
       "Cancer_Type\n",
       "Leukemia      1314\n",
       "Liver         1263\n",
       "Ovarian       1259\n",
       "Pancreatic    1243\n",
       "Breast        1241\n",
       "Lung          1233\n",
       "Colorectal    1226\n",
       "Prostate      1221\n",
       "Name: count, dtype: int64"
      ]
     },
     "execution_count": 16,
     "metadata": {},
     "output_type": "execute_result"
    }
   ],
   "source": [
    "df['Cancer_Type'].value_counts()"
   ]
  },
  {
   "cell_type": "code",
   "execution_count": 17,
   "metadata": {},
   "outputs": [
    {
     "name": "stdout",
     "output_type": "stream",
     "text": [
      "tamaño antes 10000\n"
     ]
    }
   ],
   "source": [
    "print(\"tamaño antes\" , df.shape[0])"
   ]
  },
  {
   "cell_type": "code",
   "execution_count": null,
   "metadata": {},
   "outputs": [],
   "source": []
  }
 ],
 "metadata": {
  "kernelspec": {
   "display_name": "proyectoIVAN",
   "language": "python",
   "name": "python3"
  },
  "language_info": {
   "codemirror_mode": {
    "name": "ipython",
    "version": 3
   },
   "file_extension": ".py",
   "mimetype": "text/x-python",
   "name": "python",
   "nbconvert_exporter": "python",
   "pygments_lexer": "ipython3",
   "version": "3.11.9"
  }
 },
 "nbformat": 4,
 "nbformat_minor": 2
}
