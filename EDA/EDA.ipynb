{
 "cells": [
  {
   "cell_type": "code",
   "execution_count": 3,
   "metadata": {},
   "outputs": [],
   "source": [
    "import pandas as pd\n",
    "import matplotlib.pyplot as plt\n",
    "import seaborn as sns\n",
    "from sklearn.preprocessing import StandardScaler\n",
    "from sklearn.cluster import KMeans\n",
    "from sklearn.model_selection import train_test_split\n",
    "from sklearn.tree import DecisionTreeRegressor, plot_tree\n",
    "pd.set_option('display.max_columns', None)"
   ]
  },
  {
   "cell_type": "code",
   "execution_count": 6,
   "metadata": {},
   "outputs": [],
   "source": [
    "df = pd.read_csv('../Data/CancerCvs.csv', sep=';')"
   ]
  },
  {
   "cell_type": "code",
   "execution_count": 7,
   "metadata": {},
   "outputs": [],
   "source": [
    "def null_percentage(df):\n",
    "    \"\"\"\n",
    "    Returns a DataFrame with the percentage of null (NaN) values per column.\n",
    "    \"\"\"\n",
    "    percentage = df.isnull().mean() * 100\n",
    "    return percentage.to_frame(name='Null Percentage')\n",
    "\n",
    "\n",
    "def zero_percentage(df):\n",
    "    \"\"\"\n",
    "    Returns a DataFrame with the percentage of zero values per column.\n",
    "    \"\"\"\n",
    "    percentage = (df == 0).mean() * 100\n",
    "    return percentage.to_frame(name='Zero Percentage')"
   ]
  },
  {
   "cell_type": "code",
   "execution_count": 8,
   "metadata": {},
   "outputs": [
    {
     "data": {
      "text/html": [
       "<div>\n",
       "<style scoped>\n",
       "    .dataframe tbody tr th:only-of-type {\n",
       "        vertical-align: middle;\n",
       "    }\n",
       "\n",
       "    .dataframe tbody tr th {\n",
       "        vertical-align: top;\n",
       "    }\n",
       "\n",
       "    .dataframe thead th {\n",
       "        text-align: right;\n",
       "    }\n",
       "</style>\n",
       "<table border=\"1\" class=\"dataframe\">\n",
       "  <thead>\n",
       "    <tr style=\"text-align: right;\">\n",
       "      <th></th>\n",
       "      <th>Patient_ID</th>\n",
       "      <th>Age</th>\n",
       "      <th>Gender</th>\n",
       "      <th>Nationality</th>\n",
       "      <th>Emirate</th>\n",
       "      <th>Diagnosis_Date</th>\n",
       "      <th>Cancer_Type</th>\n",
       "      <th>Cancer_Stage</th>\n",
       "      <th>Treatment_Type</th>\n",
       "      <th>Treatment_Start_Date</th>\n",
       "      <th>Hospital</th>\n",
       "      <th>Primary_Physician</th>\n",
       "      <th>Outcome</th>\n",
       "      <th>Death_Date</th>\n",
       "      <th>Cause_of_Death</th>\n",
       "      <th>Smoking_Status</th>\n",
       "      <th>Comorbidities</th>\n",
       "      <th>Ethnicity</th>\n",
       "      <th>Weight</th>\n",
       "      <th>Height</th>\n",
       "    </tr>\n",
       "  </thead>\n",
       "  <tbody>\n",
       "    <tr>\n",
       "      <th>0</th>\n",
       "      <td>PAT000001</td>\n",
       "      <td>69</td>\n",
       "      <td>Female</td>\n",
       "      <td>Emirati</td>\n",
       "      <td>Umm Al Quwain</td>\n",
       "      <td>30/11/2020</td>\n",
       "      <td>Liver</td>\n",
       "      <td>II</td>\n",
       "      <td>Radiation</td>\n",
       "      <td>4/12/2020</td>\n",
       "      <td>Sheikh Khalifa Hospital</td>\n",
       "      <td>Dr. VO41</td>\n",
       "      <td>Recovered</td>\n",
       "      <td>NaN</td>\n",
       "      <td>NaN</td>\n",
       "      <td>Non-Smoker</td>\n",
       "      <td>NaN</td>\n",
       "      <td>European</td>\n",
       "      <td>61</td>\n",
       "      <td>157</td>\n",
       "    </tr>\n",
       "    <tr>\n",
       "      <th>1</th>\n",
       "      <td>PAT000002</td>\n",
       "      <td>32</td>\n",
       "      <td>Male</td>\n",
       "      <td>Emirati</td>\n",
       "      <td>Umm Al Quwain</td>\n",
       "      <td>10/10/2015</td>\n",
       "      <td>Leukemia</td>\n",
       "      <td>III</td>\n",
       "      <td>Surgery</td>\n",
       "      <td>5/11/2015</td>\n",
       "      <td>Dubai Hospital</td>\n",
       "      <td>Dr. SM31</td>\n",
       "      <td>Recovered</td>\n",
       "      <td>NaN</td>\n",
       "      <td>NaN</td>\n",
       "      <td>Smoker</td>\n",
       "      <td>NaN</td>\n",
       "      <td>South Asian</td>\n",
       "      <td>80</td>\n",
       "      <td>175</td>\n",
       "    </tr>\n",
       "    <tr>\n",
       "      <th>2</th>\n",
       "      <td>PAT000003</td>\n",
       "      <td>89</td>\n",
       "      <td>Male</td>\n",
       "      <td>Emirati</td>\n",
       "      <td>Abu Dhabi</td>\n",
       "      <td>13/02/2018</td>\n",
       "      <td>Liver</td>\n",
       "      <td>III</td>\n",
       "      <td>Radiation</td>\n",
       "      <td>3/08/2018</td>\n",
       "      <td>Zayed Military Hospital</td>\n",
       "      <td>Dr. BC7</td>\n",
       "      <td>Under Treatment</td>\n",
       "      <td>NaN</td>\n",
       "      <td>NaN</td>\n",
       "      <td>Non-Smoker</td>\n",
       "      <td>NaN</td>\n",
       "      <td>South Asian</td>\n",
       "      <td>50</td>\n",
       "      <td>175</td>\n",
       "    </tr>\n",
       "    <tr>\n",
       "      <th>3</th>\n",
       "      <td>PAT000004</td>\n",
       "      <td>78</td>\n",
       "      <td>Female</td>\n",
       "      <td>Emirati</td>\n",
       "      <td>Abu Dhabi</td>\n",
       "      <td>4/02/2022</td>\n",
       "      <td>Lung</td>\n",
       "      <td>III</td>\n",
       "      <td>Radiation</td>\n",
       "      <td>13/03/2022</td>\n",
       "      <td>Cleveland Clinic Abu Dhabi</td>\n",
       "      <td>Dr. TC14</td>\n",
       "      <td>Recovered</td>\n",
       "      <td>NaN</td>\n",
       "      <td>NaN</td>\n",
       "      <td>Former Smoker</td>\n",
       "      <td>NaN</td>\n",
       "      <td>African</td>\n",
       "      <td>44</td>\n",
       "      <td>155</td>\n",
       "    </tr>\n",
       "    <tr>\n",
       "      <th>4</th>\n",
       "      <td>PAT000005</td>\n",
       "      <td>38</td>\n",
       "      <td>Female</td>\n",
       "      <td>Emirati</td>\n",
       "      <td>Fujairah</td>\n",
       "      <td>3/12/2019</td>\n",
       "      <td>Pancreatic</td>\n",
       "      <td>II</td>\n",
       "      <td>Chemotherapy</td>\n",
       "      <td>29/02/2020</td>\n",
       "      <td>Sheikh Khalifa Hospital</td>\n",
       "      <td>Dr. YS37</td>\n",
       "      <td>Recovered</td>\n",
       "      <td>NaN</td>\n",
       "      <td>NaN</td>\n",
       "      <td>Former Smoker</td>\n",
       "      <td>NaN</td>\n",
       "      <td>East Asian</td>\n",
       "      <td>101</td>\n",
       "      <td>160</td>\n",
       "    </tr>\n",
       "  </tbody>\n",
       "</table>\n",
       "</div>"
      ],
      "text/plain": [
       "  Patient_ID  Age  Gender Nationality        Emirate Diagnosis_Date  \\\n",
       "0  PAT000001   69  Female     Emirati  Umm Al Quwain     30/11/2020   \n",
       "1  PAT000002   32    Male     Emirati  Umm Al Quwain     10/10/2015   \n",
       "2  PAT000003   89    Male     Emirati      Abu Dhabi     13/02/2018   \n",
       "3  PAT000004   78  Female     Emirati      Abu Dhabi      4/02/2022   \n",
       "4  PAT000005   38  Female     Emirati       Fujairah      3/12/2019   \n",
       "\n",
       "  Cancer_Type Cancer_Stage Treatment_Type Treatment_Start_Date  \\\n",
       "0       Liver           II      Radiation            4/12/2020   \n",
       "1    Leukemia          III        Surgery            5/11/2015   \n",
       "2       Liver          III      Radiation            3/08/2018   \n",
       "3        Lung          III      Radiation           13/03/2022   \n",
       "4  Pancreatic           II   Chemotherapy           29/02/2020   \n",
       "\n",
       "                     Hospital Primary_Physician          Outcome Death_Date  \\\n",
       "0     Sheikh Khalifa Hospital          Dr. VO41        Recovered        NaN   \n",
       "1              Dubai Hospital          Dr. SM31        Recovered        NaN   \n",
       "2     Zayed Military Hospital           Dr. BC7  Under Treatment        NaN   \n",
       "3  Cleveland Clinic Abu Dhabi          Dr. TC14        Recovered        NaN   \n",
       "4     Sheikh Khalifa Hospital          Dr. YS37        Recovered        NaN   \n",
       "\n",
       "  Cause_of_Death Smoking_Status Comorbidities    Ethnicity  Weight  Height  \n",
       "0            NaN     Non-Smoker           NaN     European      61     157  \n",
       "1            NaN         Smoker           NaN  South Asian      80     175  \n",
       "2            NaN     Non-Smoker           NaN  South Asian      50     175  \n",
       "3            NaN  Former Smoker           NaN      African      44     155  \n",
       "4            NaN  Former Smoker           NaN   East Asian     101     160  "
      ]
     },
     "execution_count": 8,
     "metadata": {},
     "output_type": "execute_result"
    }
   ],
   "source": [
    "df = pd.read_csv('../Data/CancerCvs.csv', sep=';')\n",
    "df.head()"
   ]
  },
  {
   "cell_type": "code",
   "execution_count": 9,
   "metadata": {},
   "outputs": [
    {
     "data": {
      "text/plain": [
       "Index(['Patient_ID', 'Age', 'Gender', 'Nationality', 'Emirate',\n",
       "       'Diagnosis_Date', 'Cancer_Type', 'Cancer_Stage', 'Treatment_Type',\n",
       "       'Treatment_Start_Date', 'Hospital', 'Primary_Physician', 'Outcome',\n",
       "       'Death_Date', 'Cause_of_Death', 'Smoking_Status', 'Comorbidities',\n",
       "       'Ethnicity', 'Weight', 'Height'],\n",
       "      dtype='object')"
      ]
     },
     "execution_count": 9,
     "metadata": {},
     "output_type": "execute_result"
    }
   ],
   "source": [
    "df.columns"
   ]
  },
  {
   "cell_type": "code",
   "execution_count": 10,
   "metadata": {},
   "outputs": [
    {
     "data": {
      "text/html": [
       "<div>\n",
       "<style scoped>\n",
       "    .dataframe tbody tr th:only-of-type {\n",
       "        vertical-align: middle;\n",
       "    }\n",
       "\n",
       "    .dataframe tbody tr th {\n",
       "        vertical-align: top;\n",
       "    }\n",
       "\n",
       "    .dataframe thead th {\n",
       "        text-align: right;\n",
       "    }\n",
       "</style>\n",
       "<table border=\"1\" class=\"dataframe\">\n",
       "  <thead>\n",
       "    <tr style=\"text-align: right;\">\n",
       "      <th></th>\n",
       "      <th>Null Percentage</th>\n",
       "    </tr>\n",
       "  </thead>\n",
       "  <tbody>\n",
       "    <tr>\n",
       "      <th>Patient_ID</th>\n",
       "      <td>0.00</td>\n",
       "    </tr>\n",
       "    <tr>\n",
       "      <th>Age</th>\n",
       "      <td>0.00</td>\n",
       "    </tr>\n",
       "    <tr>\n",
       "      <th>Gender</th>\n",
       "      <td>0.00</td>\n",
       "    </tr>\n",
       "    <tr>\n",
       "      <th>Nationality</th>\n",
       "      <td>0.00</td>\n",
       "    </tr>\n",
       "    <tr>\n",
       "      <th>Emirate</th>\n",
       "      <td>0.00</td>\n",
       "    </tr>\n",
       "    <tr>\n",
       "      <th>Diagnosis_Date</th>\n",
       "      <td>0.00</td>\n",
       "    </tr>\n",
       "    <tr>\n",
       "      <th>Cancer_Type</th>\n",
       "      <td>0.00</td>\n",
       "    </tr>\n",
       "    <tr>\n",
       "      <th>Cancer_Stage</th>\n",
       "      <td>0.00</td>\n",
       "    </tr>\n",
       "    <tr>\n",
       "      <th>Treatment_Type</th>\n",
       "      <td>0.00</td>\n",
       "    </tr>\n",
       "    <tr>\n",
       "      <th>Treatment_Start_Date</th>\n",
       "      <td>0.00</td>\n",
       "    </tr>\n",
       "    <tr>\n",
       "      <th>Hospital</th>\n",
       "      <td>0.00</td>\n",
       "    </tr>\n",
       "    <tr>\n",
       "      <th>Primary_Physician</th>\n",
       "      <td>0.00</td>\n",
       "    </tr>\n",
       "    <tr>\n",
       "      <th>Outcome</th>\n",
       "      <td>0.00</td>\n",
       "    </tr>\n",
       "    <tr>\n",
       "      <th>Death_Date</th>\n",
       "      <td>90.08</td>\n",
       "    </tr>\n",
       "    <tr>\n",
       "      <th>Cause_of_Death</th>\n",
       "      <td>90.08</td>\n",
       "    </tr>\n",
       "    <tr>\n",
       "      <th>Smoking_Status</th>\n",
       "      <td>0.00</td>\n",
       "    </tr>\n",
       "    <tr>\n",
       "      <th>Comorbidities</th>\n",
       "      <td>40.47</td>\n",
       "    </tr>\n",
       "    <tr>\n",
       "      <th>Ethnicity</th>\n",
       "      <td>0.00</td>\n",
       "    </tr>\n",
       "    <tr>\n",
       "      <th>Weight</th>\n",
       "      <td>0.00</td>\n",
       "    </tr>\n",
       "    <tr>\n",
       "      <th>Height</th>\n",
       "      <td>0.00</td>\n",
       "    </tr>\n",
       "  </tbody>\n",
       "</table>\n",
       "</div>"
      ],
      "text/plain": [
       "                      Null Percentage\n",
       "Patient_ID                       0.00\n",
       "Age                              0.00\n",
       "Gender                           0.00\n",
       "Nationality                      0.00\n",
       "Emirate                          0.00\n",
       "Diagnosis_Date                   0.00\n",
       "Cancer_Type                      0.00\n",
       "Cancer_Stage                     0.00\n",
       "Treatment_Type                   0.00\n",
       "Treatment_Start_Date             0.00\n",
       "Hospital                         0.00\n",
       "Primary_Physician                0.00\n",
       "Outcome                          0.00\n",
       "Death_Date                      90.08\n",
       "Cause_of_Death                  90.08\n",
       "Smoking_Status                   0.00\n",
       "Comorbidities                   40.47\n",
       "Ethnicity                        0.00\n",
       "Weight                           0.00\n",
       "Height                           0.00"
      ]
     },
     "execution_count": 10,
     "metadata": {},
     "output_type": "execute_result"
    }
   ],
   "source": [
    "null_percentage(df)"
   ]
  },
  {
   "cell_type": "code",
   "execution_count": 11,
   "metadata": {},
   "outputs": [
    {
     "data": {
      "text/html": [
       "<div>\n",
       "<style scoped>\n",
       "    .dataframe tbody tr th:only-of-type {\n",
       "        vertical-align: middle;\n",
       "    }\n",
       "\n",
       "    .dataframe tbody tr th {\n",
       "        vertical-align: top;\n",
       "    }\n",
       "\n",
       "    .dataframe thead th {\n",
       "        text-align: right;\n",
       "    }\n",
       "</style>\n",
       "<table border=\"1\" class=\"dataframe\">\n",
       "  <thead>\n",
       "    <tr style=\"text-align: right;\">\n",
       "      <th></th>\n",
       "      <th>Zero Percentage</th>\n",
       "    </tr>\n",
       "  </thead>\n",
       "  <tbody>\n",
       "    <tr>\n",
       "      <th>Patient_ID</th>\n",
       "      <td>0.0</td>\n",
       "    </tr>\n",
       "    <tr>\n",
       "      <th>Age</th>\n",
       "      <td>0.0</td>\n",
       "    </tr>\n",
       "    <tr>\n",
       "      <th>Gender</th>\n",
       "      <td>0.0</td>\n",
       "    </tr>\n",
       "    <tr>\n",
       "      <th>Nationality</th>\n",
       "      <td>0.0</td>\n",
       "    </tr>\n",
       "    <tr>\n",
       "      <th>Emirate</th>\n",
       "      <td>0.0</td>\n",
       "    </tr>\n",
       "    <tr>\n",
       "      <th>Diagnosis_Date</th>\n",
       "      <td>0.0</td>\n",
       "    </tr>\n",
       "    <tr>\n",
       "      <th>Cancer_Type</th>\n",
       "      <td>0.0</td>\n",
       "    </tr>\n",
       "    <tr>\n",
       "      <th>Cancer_Stage</th>\n",
       "      <td>0.0</td>\n",
       "    </tr>\n",
       "    <tr>\n",
       "      <th>Treatment_Type</th>\n",
       "      <td>0.0</td>\n",
       "    </tr>\n",
       "    <tr>\n",
       "      <th>Treatment_Start_Date</th>\n",
       "      <td>0.0</td>\n",
       "    </tr>\n",
       "    <tr>\n",
       "      <th>Hospital</th>\n",
       "      <td>0.0</td>\n",
       "    </tr>\n",
       "    <tr>\n",
       "      <th>Primary_Physician</th>\n",
       "      <td>0.0</td>\n",
       "    </tr>\n",
       "    <tr>\n",
       "      <th>Outcome</th>\n",
       "      <td>0.0</td>\n",
       "    </tr>\n",
       "    <tr>\n",
       "      <th>Death_Date</th>\n",
       "      <td>0.0</td>\n",
       "    </tr>\n",
       "    <tr>\n",
       "      <th>Cause_of_Death</th>\n",
       "      <td>0.0</td>\n",
       "    </tr>\n",
       "    <tr>\n",
       "      <th>Smoking_Status</th>\n",
       "      <td>0.0</td>\n",
       "    </tr>\n",
       "    <tr>\n",
       "      <th>Comorbidities</th>\n",
       "      <td>0.0</td>\n",
       "    </tr>\n",
       "    <tr>\n",
       "      <th>Ethnicity</th>\n",
       "      <td>0.0</td>\n",
       "    </tr>\n",
       "    <tr>\n",
       "      <th>Weight</th>\n",
       "      <td>0.0</td>\n",
       "    </tr>\n",
       "    <tr>\n",
       "      <th>Height</th>\n",
       "      <td>0.0</td>\n",
       "    </tr>\n",
       "  </tbody>\n",
       "</table>\n",
       "</div>"
      ],
      "text/plain": [
       "                      Zero Percentage\n",
       "Patient_ID                        0.0\n",
       "Age                               0.0\n",
       "Gender                            0.0\n",
       "Nationality                       0.0\n",
       "Emirate                           0.0\n",
       "Diagnosis_Date                    0.0\n",
       "Cancer_Type                       0.0\n",
       "Cancer_Stage                      0.0\n",
       "Treatment_Type                    0.0\n",
       "Treatment_Start_Date              0.0\n",
       "Hospital                          0.0\n",
       "Primary_Physician                 0.0\n",
       "Outcome                           0.0\n",
       "Death_Date                        0.0\n",
       "Cause_of_Death                    0.0\n",
       "Smoking_Status                    0.0\n",
       "Comorbidities                     0.0\n",
       "Ethnicity                         0.0\n",
       "Weight                            0.0\n",
       "Height                            0.0"
      ]
     },
     "execution_count": 11,
     "metadata": {},
     "output_type": "execute_result"
    }
   ],
   "source": [
    "zero_percentage(df)"
   ]
  },
  {
   "cell_type": "code",
   "execution_count": 12,
   "metadata": {},
   "outputs": [
    {
     "data": {
      "text/plain": [
       "Patient_ID\n",
       "PAT009984    1\n",
       "PAT009983    1\n",
       "PAT009982    1\n",
       "PAT009981    1\n",
       "PAT009980    1\n",
       "            ..\n",
       "PAT000005    1\n",
       "PAT000004    1\n",
       "PAT000003    1\n",
       "PAT000002    1\n",
       "PAT000001    1\n",
       "Name: count, Length: 10000, dtype: int64"
      ]
     },
     "execution_count": 12,
     "metadata": {},
     "output_type": "execute_result"
    }
   ],
   "source": [
    "df['Patient_ID'].value_counts()\n",
    "# Alta varianza, por tanto se elimina"
   ]
  },
  {
   "cell_type": "code",
   "execution_count": 13,
   "metadata": {},
   "outputs": [
    {
     "data": {
      "text/plain": [
       "<Axes: xlabel='Diagnosis_Date'>"
      ]
     },
     "execution_count": 13,
     "metadata": {},
     "output_type": "execute_result"
    },
    {
     "data": {
      "image/png": "[encoded data removed]",
      "text/plain": [
       "<Figure size 640x480 with 1 Axes>"
      ]
     },
     "metadata": {},
     "output_type": "display_data"
    }
   ],
   "source": [
    "df['Diagnosis_Date'].value_counts().plot(kind='bar', color='skyblue', edgecolor='black')"
   ]
  },
  {
   "cell_type": "code",
   "execution_count": 20,
   "metadata": {},
   "outputs": [],
   "source": [
    "df['Diagnosis_Date'] = pd.to_datetime(df['Diagnosis_Date'], errors='coerce', dayfirst=True)\n",
    "\n",
    "# Extraer el año y el mes\n",
    "df['date'] = df['Diagnosis_Date'].dt.date\n",
    "df['year'] = df['Diagnosis_Date'].dt.year\n",
    "df['month'] = df['Diagnosis_Date'].dt.month"
   ]
  },
  {
   "cell_type": "markdown",
   "metadata": {},
   "source": [
    "VARIABLE TARGET"
   ]
  },
  {
   "cell_type": "code",
   "execution_count": 21,
   "metadata": {},
   "outputs": [
    {
     "name": "stderr",
     "output_type": "stream",
     "text": [
      "C:\\Users\\Esteban\\AppData\\Local\\Temp\\ipykernel_26752\\488727945.py:1: FutureWarning: \n",
      "\n",
      "Passing `palette` without assigning `hue` is deprecated and will be removed in v0.14.0. Assign the `x` variable to `hue` and set `legend=False` for the same effect.\n",
      "\n",
      "  sns.countplot(x='Cancer_Type', data=df, palette='pastel')\n"
     ]
    },
    {
     "data": {
      "text/plain": [
       "<Axes: xlabel='Cancer_Type', ylabel='count'>"
      ]
     },
     "execution_count": 21,
     "metadata": {},
     "output_type": "execute_result"
    },
    {
     "data": {
      "image/png": "[encoded data removed]",
      "text/plain": [
       "<Figure size 640x480 with 1 Axes>"
      ]
     },
     "metadata": {},
     "output_type": "display_data"
    }
   ],
   "source": [
    "sns.countplot(x='Cancer_Type', data=df, palette='pastel')"
   ]
  },
  {
   "cell_type": "code",
   "execution_count": 22,
   "metadata": {},
   "outputs": [
    {
     "data": {
      "text/plain": [
       "Cancer_Type\n",
       "Leukemia      1314\n",
       "Liver         1263\n",
       "Ovarian       1259\n",
       "Pancreatic    1243\n",
       "Breast        1241\n",
       "Lung          1233\n",
       "Colorectal    1226\n",
       "Prostate      1221\n",
       "Name: count, dtype: int64"
      ]
     },
     "execution_count": 22,
     "metadata": {},
     "output_type": "execute_result"
    }
   ],
   "source": [
    "df['Cancer_Type'].value_counts()"
   ]
  },
  {
   "cell_type": "code",
   "execution_count": 23,
   "metadata": {},
   "outputs": [
    {
     "name": "stdout",
     "output_type": "stream",
     "text": [
      "tamaño antes 10000\n"
     ]
    }
   ],
   "source": [
    "print(\"tamaño antes\" , df.shape[0])"
   ]
  },
  {
   "cell_type": "code",
   "execution_count": 49,
   "metadata": {},
   "outputs": [],
   "source": [
    "df_clean = df[['Diagnosis_Date', 'Cancer_Type', 'Treatment_Type', 'Cancer_Stage']]"
   ]
  },
  {
   "cell_type": "code",
   "execution_count": 50,
   "metadata": {},
   "outputs": [
    {
     "data": {
      "text/html": [
       "<div>\n",
       "<style scoped>\n",
       "    .dataframe tbody tr th:only-of-type {\n",
       "        vertical-align: middle;\n",
       "    }\n",
       "\n",
       "    .dataframe tbody tr th {\n",
       "        vertical-align: top;\n",
       "    }\n",
       "\n",
       "    .dataframe thead th {\n",
       "        text-align: right;\n",
       "    }\n",
       "</style>\n",
       "<table border=\"1\" class=\"dataframe\">\n",
       "  <thead>\n",
       "    <tr style=\"text-align: right;\">\n",
       "      <th></th>\n",
       "      <th>Diagnosis_Date</th>\n",
       "      <th>Cancer_Type</th>\n",
       "      <th>Treatment_Type</th>\n",
       "      <th>Cancer_Stage</th>\n",
       "    </tr>\n",
       "  </thead>\n",
       "  <tbody>\n",
       "    <tr>\n",
       "      <th>0</th>\n",
       "      <td>2020-11-30</td>\n",
       "      <td>Liver</td>\n",
       "      <td>Radiation</td>\n",
       "      <td>II</td>\n",
       "    </tr>\n",
       "    <tr>\n",
       "      <th>1</th>\n",
       "      <td>2015-10-10</td>\n",
       "      <td>Leukemia</td>\n",
       "      <td>Surgery</td>\n",
       "      <td>III</td>\n",
       "    </tr>\n",
       "    <tr>\n",
       "      <th>2</th>\n",
       "      <td>2018-02-13</td>\n",
       "      <td>Liver</td>\n",
       "      <td>Radiation</td>\n",
       "      <td>III</td>\n",
       "    </tr>\n",
       "    <tr>\n",
       "      <th>3</th>\n",
       "      <td>2022-02-04</td>\n",
       "      <td>Lung</td>\n",
       "      <td>Radiation</td>\n",
       "      <td>III</td>\n",
       "    </tr>\n",
       "    <tr>\n",
       "      <th>4</th>\n",
       "      <td>2019-12-03</td>\n",
       "      <td>Pancreatic</td>\n",
       "      <td>Chemotherapy</td>\n",
       "      <td>II</td>\n",
       "    </tr>\n",
       "  </tbody>\n",
       "</table>\n",
       "</div>"
      ],
      "text/plain": [
       "  Diagnosis_Date Cancer_Type Treatment_Type Cancer_Stage\n",
       "0     2020-11-30       Liver      Radiation           II\n",
       "1     2015-10-10    Leukemia        Surgery          III\n",
       "2     2018-02-13       Liver      Radiation          III\n",
       "3     2022-02-04        Lung      Radiation          III\n",
       "4     2019-12-03  Pancreatic   Chemotherapy           II"
      ]
     },
     "execution_count": 50,
     "metadata": {},
     "output_type": "execute_result"
    }
   ],
   "source": [
    "df_clean.head()"
   ]
  },
  {
   "cell_type": "code",
   "execution_count": 28,
   "metadata": {},
   "outputs": [
    {
     "data": {
      "text/plain": [
       "Index(['Diagnosis_Date', 'Cancer_Type', 'Treatment_Type', 'Cancer_Stage'], dtype='object')"
      ]
     },
     "execution_count": 28,
     "metadata": {},
     "output_type": "execute_result"
    }
   ],
   "source": [
    "df_clean.columns"
   ]
  },
  {
   "cell_type": "markdown",
   "metadata": {},
   "source": [
    "NORMALIZACION"
   ]
  },
  {
   "cell_type": "code",
   "execution_count": 31,
   "metadata": {},
   "outputs": [
    {
     "data": {
      "text/plain": [
       "Diagnosis_Date    datetime64[ns]\n",
       "Cancer_Type               object\n",
       "Treatment_Type            object\n",
       "Cancer_Stage              object\n",
       "dtype: object"
      ]
     },
     "execution_count": 31,
     "metadata": {},
     "output_type": "execute_result"
    }
   ],
   "source": [
    "df_clean.dtypes"
   ]
  },
  {
   "cell_type": "code",
   "execution_count": 40,
   "metadata": {},
   "outputs": [],
   "source": [
    "df_clean['Diagnosis_Year'] = df_clean['Diagnosis_Date'].dt.year"
   ]
  },
  {
   "cell_type": "code",
   "execution_count": 52,
   "metadata": {},
   "outputs": [
    {
     "data": {
      "text/html": [
       "<div>\n",
       "<style scoped>\n",
       "    .dataframe tbody tr th:only-of-type {\n",
       "        vertical-align: middle;\n",
       "    }\n",
       "\n",
       "    .dataframe tbody tr th {\n",
       "        vertical-align: top;\n",
       "    }\n",
       "\n",
       "    .dataframe thead th {\n",
       "        text-align: right;\n",
       "    }\n",
       "</style>\n",
       "<table border=\"1\" class=\"dataframe\">\n",
       "  <thead>\n",
       "    <tr style=\"text-align: right;\">\n",
       "      <th></th>\n",
       "      <th>Cancer_Type</th>\n",
       "      <th>Treatment_Type</th>\n",
       "      <th>Cancer_Stage</th>\n",
       "    </tr>\n",
       "  </thead>\n",
       "  <tbody>\n",
       "    <tr>\n",
       "      <th>0</th>\n",
       "      <td>Liver</td>\n",
       "      <td>Radiation</td>\n",
       "      <td>II</td>\n",
       "    </tr>\n",
       "    <tr>\n",
       "      <th>1</th>\n",
       "      <td>Leukemia</td>\n",
       "      <td>Surgery</td>\n",
       "      <td>III</td>\n",
       "    </tr>\n",
       "    <tr>\n",
       "      <th>2</th>\n",
       "      <td>Liver</td>\n",
       "      <td>Radiation</td>\n",
       "      <td>III</td>\n",
       "    </tr>\n",
       "    <tr>\n",
       "      <th>3</th>\n",
       "      <td>Lung</td>\n",
       "      <td>Radiation</td>\n",
       "      <td>III</td>\n",
       "    </tr>\n",
       "    <tr>\n",
       "      <th>4</th>\n",
       "      <td>Pancreatic</td>\n",
       "      <td>Chemotherapy</td>\n",
       "      <td>II</td>\n",
       "    </tr>\n",
       "  </tbody>\n",
       "</table>\n",
       "</div>"
      ],
      "text/plain": [
       "  Cancer_Type Treatment_Type Cancer_Stage\n",
       "0       Liver      Radiation           II\n",
       "1    Leukemia        Surgery          III\n",
       "2       Liver      Radiation          III\n",
       "3        Lung      Radiation          III\n",
       "4  Pancreatic   Chemotherapy           II"
      ]
     },
     "execution_count": 52,
     "metadata": {},
     "output_type": "execute_result"
    }
   ],
   "source": [
    "df_selected = df_clean[['Cancer_Type', 'Treatment_Type', 'Cancer_Stage']]\n",
    "df_selected.head()"
   ]
  },
  {
   "cell_type": "code",
   "execution_count": 53,
   "metadata": {},
   "outputs": [],
   "source": [
    "from sklearn.preprocessing import LabelEncoder\n",
    "\n",
    "df_encoded = df_selected.copy()\n",
    "for col in df_encoded.columns:\n",
    "    le = LabelEncoder()\n",
    "    df_encoded[col] = le.fit_transform(df_encoded[col].astype(str))"
   ]
  },
  {
   "cell_type": "code",
   "execution_count": 55,
   "metadata": {},
   "outputs": [
    {
     "data": {
      "text/html": [
       "<div>\n",
       "<style scoped>\n",
       "    .dataframe tbody tr th:only-of-type {\n",
       "        vertical-align: middle;\n",
       "    }\n",
       "\n",
       "    .dataframe tbody tr th {\n",
       "        vertical-align: top;\n",
       "    }\n",
       "\n",
       "    .dataframe thead th {\n",
       "        text-align: right;\n",
       "    }\n",
       "</style>\n",
       "<table border=\"1\" class=\"dataframe\">\n",
       "  <thead>\n",
       "    <tr style=\"text-align: right;\">\n",
       "      <th></th>\n",
       "      <th>Cancer_Type</th>\n",
       "      <th>Treatment_Type</th>\n",
       "      <th>Cancer_Stage</th>\n",
       "    </tr>\n",
       "  </thead>\n",
       "  <tbody>\n",
       "    <tr>\n",
       "      <th>0</th>\n",
       "      <td>-0.213778</td>\n",
       "      <td>0.445191</td>\n",
       "      <td>-0.360160</td>\n",
       "    </tr>\n",
       "    <tr>\n",
       "      <th>1</th>\n",
       "      <td>-0.652297</td>\n",
       "      <td>1.340769</td>\n",
       "      <td>0.632017</td>\n",
       "    </tr>\n",
       "    <tr>\n",
       "      <th>2</th>\n",
       "      <td>-0.213778</td>\n",
       "      <td>0.445191</td>\n",
       "      <td>0.632017</td>\n",
       "    </tr>\n",
       "    <tr>\n",
       "      <th>3</th>\n",
       "      <td>0.224741</td>\n",
       "      <td>0.445191</td>\n",
       "      <td>0.632017</td>\n",
       "    </tr>\n",
       "    <tr>\n",
       "      <th>4</th>\n",
       "      <td>1.101778</td>\n",
       "      <td>-1.345963</td>\n",
       "      <td>-0.360160</td>\n",
       "    </tr>\n",
       "  </tbody>\n",
       "</table>\n",
       "</div>"
      ],
      "text/plain": [
       "   Cancer_Type  Treatment_Type  Cancer_Stage\n",
       "0    -0.213778        0.445191     -0.360160\n",
       "1    -0.652297        1.340769      0.632017\n",
       "2    -0.213778        0.445191      0.632017\n",
       "3     0.224741        0.445191      0.632017\n",
       "4     1.101778       -1.345963     -0.360160"
      ]
     },
     "execution_count": 55,
     "metadata": {},
     "output_type": "execute_result"
    }
   ],
   "source": [
    "from sklearn.preprocessing import StandardScaler\n",
    "\n",
    "scaler = StandardScaler()\n",
    "df_normalized = pd.DataFrame(scaler.fit_transform(df_encoded), columns=df_encoded.columns)\n",
    "df_normalized.head()"
   ]
  },
  {
   "cell_type": "code",
   "execution_count": 56,
   "metadata": {},
   "outputs": [
    {
     "data": {
      "image/png": "[encoded data removed]",
      "text/plain": [
       "<Figure size 800x400 with 1 Axes>"
      ]
     },
     "metadata": {},
     "output_type": "display_data"
    }
   ],
   "source": [
    "from sklearn.cluster import KMeans\n",
    "import matplotlib.pyplot as plt\n",
    "\n",
    "inertia = []\n",
    "k_range = range(1, 11)\n",
    "\n",
    "for k in k_range:\n",
    "    kmeans = KMeans(n_clusters=k, random_state=42)\n",
    "    kmeans.fit(df_normalized)\n",
    "    inertia.append(kmeans.inertia_)\n",
    "\n",
    "# Gráfica del método del codo\n",
    "plt.figure(figsize=(8, 4))\n",
    "plt.plot(k_range, inertia, marker='o')\n",
    "plt.xlabel('Number of Clusters (k)')\n",
    "plt.ylabel('Inertia')\n",
    "plt.title('Elbow Method For Optimal k')\n",
    "plt.grid(True)\n",
    "plt.show()"
   ]
  },
  {
   "cell_type": "markdown",
   "metadata": {},
   "source": [
    "-El gráfico muestra cómo disminuye la inercia (variación interna) al aumentar el número de clústeres.\n",
    "-El \"codo\" o punto de inflexión sugiere el número óptimo de grupos.\n",
    "-A partir de ese punto, agregar más clústeres no mejora significativamente la agrupación."
   ]
  },
  {
   "cell_type": "code",
   "execution_count": 64,
   "metadata": {},
   "outputs": [],
   "source": [
    "from sklearn.cluster import KMeans\n",
    "\n",
    "k = 2  # puedes cambiarlo según el codo que hayas visto\n",
    "kmeans = KMeans(n_clusters=k, random_state=42)\n",
    "kmeans.fit(df_normalized)\n",
    "\n",
    "# Añadir los clusters al DataFrame original\n",
    "df_clustered = df_selected.copy()\n",
    "df_clustered['cluster'] = kmeans.labels_"
   ]
  },
  {
   "cell_type": "code",
   "execution_count": 65,
   "metadata": {},
   "outputs": [
    {
     "data": {
      "text/plain": [
       "cluster\n",
       "0    5017\n",
       "1    4983\n",
       "Name: count, dtype: int64"
      ]
     },
     "execution_count": 65,
     "metadata": {},
     "output_type": "execute_result"
    }
   ],
   "source": [
    "df_clustering['cluster'].value_counts()"
   ]
  },
  {
   "cell_type": "code",
   "execution_count": 68,
   "metadata": {},
   "outputs": [
    {
     "data": {
      "text/html": [
       "<div>\n",
       "<style scoped>\n",
       "    .dataframe tbody tr th:only-of-type {\n",
       "        vertical-align: middle;\n",
       "    }\n",
       "\n",
       "    .dataframe tbody tr th {\n",
       "        vertical-align: top;\n",
       "    }\n",
       "\n",
       "    .dataframe thead th {\n",
       "        text-align: right;\n",
       "    }\n",
       "</style>\n",
       "<table border=\"1\" class=\"dataframe\">\n",
       "  <thead>\n",
       "    <tr style=\"text-align: right;\">\n",
       "      <th></th>\n",
       "      <th>Cancer_Type</th>\n",
       "      <th>Treatment_Type</th>\n",
       "      <th>Cancer_Stage</th>\n",
       "    </tr>\n",
       "    <tr>\n",
       "      <th>cluster</th>\n",
       "      <th></th>\n",
       "      <th></th>\n",
       "      <th></th>\n",
       "    </tr>\n",
       "  </thead>\n",
       "  <tbody>\n",
       "    <tr>\n",
       "      <th>0</th>\n",
       "      <td>Ovarian</td>\n",
       "      <td>Radiation</td>\n",
       "      <td>II</td>\n",
       "    </tr>\n",
       "    <tr>\n",
       "      <th>1</th>\n",
       "      <td>Leukemia</td>\n",
       "      <td>Immunotherapy</td>\n",
       "      <td>III</td>\n",
       "    </tr>\n",
       "  </tbody>\n",
       "</table>\n",
       "</div>"
      ],
      "text/plain": [
       "        Cancer_Type Treatment_Type Cancer_Stage\n",
       "cluster                                        \n",
       "0           Ovarian      Radiation           II\n",
       "1          Leukemia  Immunotherapy          III"
      ]
     },
     "execution_count": 68,
     "metadata": {},
     "output_type": "execute_result"
    }
   ],
   "source": [
    "df_clustered.groupby('cluster').agg({\n",
    "    'Cancer_Type': pd.Series.mode,\n",
    "    'Treatment_Type': pd.Series.mode,\n",
    "    'Cancer_Stage': pd.Series.mode\n",
    "})\n"
   ]
  },
  {
   "cell_type": "code",
   "execution_count": 72,
   "metadata": {},
   "outputs": [
    {
     "data": {
      "text/html": [
       "<div>\n",
       "<style scoped>\n",
       "    .dataframe tbody tr th:only-of-type {\n",
       "        vertical-align: middle;\n",
       "    }\n",
       "\n",
       "    .dataframe tbody tr th {\n",
       "        vertical-align: top;\n",
       "    }\n",
       "\n",
       "    .dataframe thead th {\n",
       "        text-align: right;\n",
       "    }\n",
       "</style>\n",
       "<table border=\"1\" class=\"dataframe\">\n",
       "  <thead>\n",
       "    <tr style=\"text-align: right;\">\n",
       "      <th>Cancer_Type</th>\n",
       "      <th>Breast</th>\n",
       "      <th>Colorectal</th>\n",
       "      <th>Leukemia</th>\n",
       "      <th>Liver</th>\n",
       "      <th>Lung</th>\n",
       "      <th>Ovarian</th>\n",
       "      <th>Pancreatic</th>\n",
       "      <th>Prostate</th>\n",
       "    </tr>\n",
       "    <tr>\n",
       "      <th>cluster</th>\n",
       "      <th></th>\n",
       "      <th></th>\n",
       "      <th></th>\n",
       "      <th></th>\n",
       "      <th></th>\n",
       "      <th></th>\n",
       "      <th></th>\n",
       "      <th></th>\n",
       "    </tr>\n",
       "  </thead>\n",
       "  <tbody>\n",
       "    <tr>\n",
       "      <th>0</th>\n",
       "      <td>12.517441</td>\n",
       "      <td>11.959338</td>\n",
       "      <td>12.437712</td>\n",
       "      <td>12.796492</td>\n",
       "      <td>12.298186</td>\n",
       "      <td>13.215069</td>\n",
       "      <td>12.856289</td>\n",
       "      <td>11.919474</td>\n",
       "    </tr>\n",
       "    <tr>\n",
       "      <th>1</th>\n",
       "      <td>12.301826</td>\n",
       "      <td>12.562713</td>\n",
       "      <td>13.847080</td>\n",
       "      <td>12.462372</td>\n",
       "      <td>12.362031</td>\n",
       "      <td>11.960666</td>\n",
       "      <td>12.000803</td>\n",
       "      <td>12.502509</td>\n",
       "    </tr>\n",
       "  </tbody>\n",
       "</table>\n",
       "</div>"
      ],
      "text/plain": [
       "Cancer_Type     Breast  Colorectal   Leukemia      Liver       Lung  \\\n",
       "cluster                                                               \n",
       "0            12.517441   11.959338  12.437712  12.796492  12.298186   \n",
       "1            12.301826   12.562713  13.847080  12.462372  12.362031   \n",
       "\n",
       "Cancer_Type    Ovarian  Pancreatic   Prostate  \n",
       "cluster                                        \n",
       "0            13.215069   12.856289  11.919474  \n",
       "1            11.960666   12.000803  12.502509  "
      ]
     },
     "execution_count": 72,
     "metadata": {},
     "output_type": "execute_result"
    }
   ],
   "source": [
    "pd.crosstab(df_clustered['cluster'], df_clustered['Cancer_Type'], normalize='index') * 100\n"
   ]
  },
  {
   "cell_type": "code",
   "execution_count": 73,
   "metadata": {},
   "outputs": [
    {
     "data": {
      "text/html": [
       "<div>\n",
       "<style scoped>\n",
       "    .dataframe tbody tr th:only-of-type {\n",
       "        vertical-align: middle;\n",
       "    }\n",
       "\n",
       "    .dataframe tbody tr th {\n",
       "        vertical-align: top;\n",
       "    }\n",
       "\n",
       "    .dataframe thead th {\n",
       "        text-align: right;\n",
       "    }\n",
       "</style>\n",
       "<table border=\"1\" class=\"dataframe\">\n",
       "  <thead>\n",
       "    <tr style=\"text-align: right;\">\n",
       "      <th>Treatment_Type</th>\n",
       "      <th>Chemotherapy</th>\n",
       "      <th>Immunotherapy</th>\n",
       "      <th>Radiation</th>\n",
       "      <th>Surgery</th>\n",
       "    </tr>\n",
       "    <tr>\n",
       "      <th>cluster</th>\n",
       "      <th></th>\n",
       "      <th></th>\n",
       "      <th></th>\n",
       "      <th></th>\n",
       "    </tr>\n",
       "  </thead>\n",
       "  <tbody>\n",
       "    <tr>\n",
       "      <th>0</th>\n",
       "      <td>0.000000</td>\n",
       "      <td>0.000000</td>\n",
       "      <td>50.209288</td>\n",
       "      <td>49.790712</td>\n",
       "    </tr>\n",
       "    <tr>\n",
       "      <th>1</th>\n",
       "      <td>49.889625</td>\n",
       "      <td>50.110375</td>\n",
       "      <td>0.000000</td>\n",
       "      <td>0.000000</td>\n",
       "    </tr>\n",
       "  </tbody>\n",
       "</table>\n",
       "</div>"
      ],
      "text/plain": [
       "Treatment_Type  Chemotherapy  Immunotherapy  Radiation    Surgery\n",
       "cluster                                                          \n",
       "0                   0.000000       0.000000  50.209288  49.790712\n",
       "1                  49.889625      50.110375   0.000000   0.000000"
      ]
     },
     "execution_count": 73,
     "metadata": {},
     "output_type": "execute_result"
    }
   ],
   "source": [
    "pd.crosstab(df_clustered['cluster'], df_clustered['Treatment_Type'], normalize='index') * 100"
   ]
  },
  {
   "cell_type": "code",
   "execution_count": 77,
   "metadata": {},
   "outputs": [
    {
     "data": {
      "text/html": [
       "<div>\n",
       "<style scoped>\n",
       "    .dataframe tbody tr th:only-of-type {\n",
       "        vertical-align: middle;\n",
       "    }\n",
       "\n",
       "    .dataframe tbody tr th {\n",
       "        vertical-align: top;\n",
       "    }\n",
       "\n",
       "    .dataframe thead th {\n",
       "        text-align: right;\n",
       "    }\n",
       "</style>\n",
       "<table border=\"1\" class=\"dataframe\">\n",
       "  <thead>\n",
       "    <tr style=\"text-align: right;\">\n",
       "      <th>Cancer_Stage</th>\n",
       "      <th>I</th>\n",
       "      <th>II</th>\n",
       "      <th>III</th>\n",
       "      <th>IV</th>\n",
       "    </tr>\n",
       "    <tr>\n",
       "      <th>cluster</th>\n",
       "      <th></th>\n",
       "      <th></th>\n",
       "      <th></th>\n",
       "      <th></th>\n",
       "    </tr>\n",
       "  </thead>\n",
       "  <tbody>\n",
       "    <tr>\n",
       "      <th>0</th>\n",
       "      <td>23.579829</td>\n",
       "      <td>31.472992</td>\n",
       "      <td>30.536177</td>\n",
       "      <td>14.411003</td>\n",
       "    </tr>\n",
       "    <tr>\n",
       "      <th>1</th>\n",
       "      <td>24.804335</td>\n",
       "      <td>29.239414</td>\n",
       "      <td>30.282962</td>\n",
       "      <td>15.673289</td>\n",
       "    </tr>\n",
       "  </tbody>\n",
       "</table>\n",
       "</div>"
      ],
      "text/plain": [
       "Cancer_Stage          I         II        III         IV\n",
       "cluster                                                 \n",
       "0             23.579829  31.472992  30.536177  14.411003\n",
       "1             24.804335  29.239414  30.282962  15.673289"
      ]
     },
     "execution_count": 77,
     "metadata": {},
     "output_type": "execute_result"
    }
   ],
   "source": [
    "pd.crosstab(df_clustered['cluster'], df_clustered['Cancer_Stage'], normalize='index') * 100"
   ]
  },
  {
   "cell_type": "code",
   "execution_count": 79,
   "metadata": {},
   "outputs": [],
   "source": [
    "df_clean['Diagnosis_Date'] = pd.to_datetime(df_clean['Diagnosis_Date'], errors='coerce')\n",
    "df_clean['Diagnosis_Year'] = df_clean['Diagnosis_Date'].dt.year"
   ]
  },
  {
   "cell_type": "code",
   "execution_count": 80,
   "metadata": {},
   "outputs": [],
   "source": [
    "# y = lo que queremos predecir\n",
    "y = df_clean['Cancer_Type']\n",
    "\n",
    "# X = las variables que usamos para predecir\n",
    "X = df_clean[['Diagnosis_Year', 'Treatment_Type', 'Cancer_Stage']]"
   ]
  },
  {
   "cell_type": "code",
   "execution_count": 81,
   "metadata": {},
   "outputs": [],
   "source": [
    "from sklearn.preprocessing import LabelEncoder\n",
    "\n",
    "# Codificamos y (Cancer_Type)\n",
    "y = LabelEncoder().fit_transform(y.astype(str))\n",
    "\n",
    "# Codificamos X\n",
    "X_encoded = X.copy()\n",
    "for col in X_encoded.columns:\n",
    "    le = LabelEncoder()\n",
    "    X_encoded[col] = le.fit_transform(X_encoded[col].astype(str))\n"
   ]
  },
  {
   "cell_type": "code",
   "execution_count": null,
   "metadata": {},
   "outputs": [
    {
     "name": "stdout",
     "output_type": "stream",
     "text": [
      "Train: 6400\n",
      "Validation: 1600\n",
      "Test: 2000\n"
     ]
    }
   ],
   "source": [
    "from sklearn.model_selection import train_test_split\n",
    "\n",
    "# Paso 1: 80% para entrenamiento + validación, 20% para test\n",
    "X_train_val, X_test, y_train_val, y_test = train_test_split(X_encoded, y, test_size=0.2, random_state=42)\n",
    "\n",
    "# Paso 2: 80% de eso para entrenamiento, 20% para validación\n",
    "X_train, X_val, y_train, y_val = train_test_split(X_train_val, y_train_val, test_size=0.2, random_state=42)\n",
    "# Verifica tamaños si quieres:\n",
    "\n",
    "print(f\"Train: {len(X_train)}\")\n",
    "print(f\"Validation: {len(X_val)}\")\n",
    "print(f\"Test: {len(X_test)}\")"
   ]
  },
  {
   "cell_type": "code",
   "execution_count": 84,
   "metadata": {},
   "outputs": [],
   "source": [
    "# Unir X e y para cada conjunto\n",
    "train = pd.concat([pd.DataFrame(X_train, columns=X.columns), pd.Series(y_train, name='Cancer_Type')], axis=1)\n",
    "val = pd.concat([pd.DataFrame(X_val, columns=X.columns), pd.Series(y_val, name='Cancer_Type')], axis=1)\n",
    "test = pd.concat([pd.DataFrame(X_test, columns=X.columns), pd.Series(y_test, name='Cancer_Type')], axis=1)\n",
    "\n",
    "# Guardar como CSV (ajusta la ruta si estás en Colab o local)\n",
    "train.to_csv('../Data/train.csv', index=False)\n",
    "val.to_csv('../Data/validation.csv', index=False)\n",
    "test.to_csv('../Data/test.csv', index=False)\n"
   ]
  }
 ],
 "metadata": {
  "kernelspec": {
   "display_name": "proyectoIVAN",
   "language": "python",
   "name": "python3"
  },
  "language_info": {
   "codemirror_mode": {
    "name": "ipython",
    "version": 3
   },
   "file_extension": ".py",
   "mimetype": "text/x-python",
   "name": "python",
   "nbconvert_exporter": "python",
   "pygments_lexer": "ipython3",
   "version": "3.11.9"
  }
 },
 "nbformat": 4,
 "nbformat_minor": 2
}
