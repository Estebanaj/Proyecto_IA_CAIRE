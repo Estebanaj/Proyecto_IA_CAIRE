{
 "cells": [
  {
   "cell_type": "code",
   "execution_count": null,
   "metadata": {
    "vscode": {
     "languageId": "plaintext"
    }
   },
   "outputs": [],
   "source": [
    "import pandas as pd\n",
    "\n",
    "df = pd.read_csv('CancerCvs.csv', sep=';')\n",
    "\n",
    "df['Diagnosis_Date'].value_counts().plot(kind='bar', color='mediumseagreen', edgecolor='black')"
   ]
  },
  {
   "cell_type": "markdown",
   "metadata": {},
   "source": [
    "# El año promedio de diagnóstico de los pacientes es 2019.\n",
    "# La moda, es decir, el año más frecuente de diagnóstico fue 2020.\n",
    "# La varianza es de aproximadamente 7.05, lo que indica que los años de diagnóstico están relativamente concentrados cerca del promedio.\n",
    "# Esto sugiere que la mayoría de los diagnósticos ocurrieron en un período reciente y continuo."
   ]
  },
  {
   "cell_type": "code",
   "execution_count": null,
   "metadata": {
    "vscode": {
     "languageId": "plaintext"
    }
   },
   "outputs": [],
   "source": [
    "df['Cancer_Type'].value_counts().plot(kind='bar', color='cornflowerblue', edgecolor='black')"
   ]
  },
  {
   "cell_type": "markdown",
   "metadata": {},
   "source": [
    "# La cantidad promedio de pacientes por tipo de cáncer es 1,250.\n",
    "# El tipo de cáncer más frecuente tuvo 1,221 pacientes (moda de las frecuencias).\n",
    "# La varianza de 883.14 indica que hay cierta diferencia entre cuántos pacientes tiene cada tipo de cáncer,\n",
    "# pero no es extremadamente dispersa, lo cual sugiere que algunos tipos son ligeramente más comunes que otros."
   ]
  },
  {
   "cell_type": "code",
   "execution_count": null,
   "metadata": {
    "vscode": {
     "languageId": "plaintext"
    }
   },
   "outputs": [],
   "source": [
    "df['Cancer_Stage'].value_counts().plot(kind='bar', color='cornflowerblue', edgecolor='black')"
   ]
  },
  {
   "cell_type": "markdown",
   "metadata": {},
   "source": [
    "# La cantidad promedio de pacientes por etapa del cáncer es 2,500.\n",
    "# La moda (etapa más frecuente) tuvo 1,504 pacientes.\n",
    "# La varianza es muy alta, aproximadamente 526,184.67, lo que indica una gran desigualdad entre las etapas.\n",
    "# Esto puede reflejar que una o dos etapas son mucho más comunes que las demás (por ejemplo, la etapa avanzada)."
   ]
  },
  {
   "cell_type": "code",
   "execution_count": null,
   "metadata": {
    "vscode": {
     "languageId": "plaintext"
    }
   },
   "outputs": [],
   "source": [
    "df['Treatment_Type'].value_counts().plot(kind='bar', color='cornflowerblue', edgecolor='black')"
   ]
  },
  {
   "cell_type": "markdown",
   "metadata": {},
   "source": [
    "# En promedio, hay 2,500 pacientes por tipo de tratamiento.\n",
    "# El tratamiento más común fue aplicado a 2,486 pacientes (moda de las frecuencias).\n",
    "# La varianza es de 190, lo que indica que la distribución entre tipos de tratamiento es bastante uniforme,\n",
    "# con diferencias pequeñas en la cantidad de pacientes que reciben cada uno."
   ]
  }
 ],
 "metadata": {
  "language_info": {
   "name": "python"
  }
 },
 "nbformat": 4,
 "nbformat_minor": 2
}
