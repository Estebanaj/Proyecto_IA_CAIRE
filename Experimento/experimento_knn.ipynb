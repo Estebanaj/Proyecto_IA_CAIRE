{
 "cells": [
  {
   "cell_type": "code",
   "execution_count": 25,
   "id": "e2adcdeb",
   "metadata": {},
   "outputs": [],
   "source": [
    "import pandas as pd\n",
    "from sklearn.neighbors import KNeighborsClassifier\n",
    "from sklearn.metrics import accuracy_score\n",
    "from sklearn.model_selection import train_test_split\n",
    "from sklearn.impute import SimpleImputer\n",
    "from sklearn.metrics import classification_report"
   ]
  },
  {
   "cell_type": "code",
   "execution_count": 26,
   "id": "a0916cc5",
   "metadata": {},
   "outputs": [],
   "source": [
    "train_df = pd.read_excel('../Data/train.xlsx')\n",
    "validation_df = pd.read_excel('../Data/validation.xlsx')\n",
    "test_df = pd.read_excel('../Data/test.xlsx')"
   ]
  },
  {
   "cell_type": "code",
   "execution_count": 27,
   "id": "ca4e3c30",
   "metadata": {},
   "outputs": [],
   "source": [
    "y_train = train_df['Treatment_Type']\n",
    "X_train = train_df.drop(columns=['Treatment_Type'])\n",
    "y_val = validation_df['Treatment_Type']\n",
    "X_val = validation_df.drop(columns=['Treatment_Type'])"
   ]
  },
  {
   "cell_type": "code",
   "execution_count": 28,
   "id": "f9591e6e",
   "metadata": {},
   "outputs": [],
   "source": [
    "\n",
    "for col in X_train.columns:\n",
    "    if pd.api.types.is_datetime64_any_dtype(X_train[col]):\n",
    "        X_train = X_train.drop(columns=[col])\n",
    "        X_val = X_val.drop(columns=[col])\n",
    "\n",
    "imputer = SimpleImputer(strategy='mean')\n",
    "X_train = pd.DataFrame(imputer.fit_transform(X_train), columns=X_train.columns)\n",
    "X_val = pd.DataFrame(imputer.transform(X_val), columns=X_val.columns)\n",
    "\n",
    "neighbors = [3, 5]\n",
    "weights_list = ['uniform', 'distance']\n",
    "p_values = [1, 2] \n",
    "\n",
    "results = []"
   ]
  },
  {
   "cell_type": "code",
   "execution_count": 29,
   "id": "a6f3b379",
   "metadata": {},
   "outputs": [],
   "source": [
    "for k in neighbors:\n",
    "    for w in weights_list:\n",
    "        for p in p_values:\n",
    "            model = KNeighborsClassifier(n_neighbors=k, weights=w, p=p)\n",
    "            model.fit(X_train, y_train)\n",
    "            y_pred = model.predict(X_val)\n",
    "            acc = accuracy_score(y_val, y_pred)\n",
    "            results.append({\n",
    "                'n_neighbors': k,\n",
    "                'weights': w,\n",
    "                'p': p,\n",
    "                'accuracy': acc\n",
    "            })"
   ]
  },
  {
   "cell_type": "code",
   "execution_count": 30,
   "id": "aa933f84",
   "metadata": {},
   "outputs": [
    {
     "name": "stdout",
     "output_type": "stream",
     "text": [
      "Resultados del experimento con KNN:\n",
      "   n_neighbors   weights  p  accuracy\n",
      "0            5   uniform  1  0.260000\n",
      "1            5  distance  1  0.258750\n",
      "2            3  distance  2  0.257500\n",
      "3            3   uniform  1  0.253750\n",
      "4            3  distance  1  0.253750\n",
      "5            5  distance  2  0.244375\n",
      "6            5   uniform  2  0.243750\n",
      "7            3   uniform  2  0.241875\n"
     ]
    }
   ],
   "source": [
    "results_df = pd.DataFrame(results)\n",
    "results_df = results_df.sort_values(by='accuracy', ascending=False).reset_index(drop=True)\n",
    "print(\"Resultados del experimento con KNN:\")\n",
    "print(results_df)"
   ]
  },
  {
   "cell_type": "code",
   "execution_count": 31,
   "id": "0080ed71",
   "metadata": {},
   "outputs": [
    {
     "name": "stdout",
     "output_type": "stream",
     "text": [
      "\n",
      "Mejor configuración:\n",
      "n_neighbors          5\n",
      "weights        uniform\n",
      "p                    1\n",
      "accuracy          0.26\n",
      "Name: 0, dtype: object\n"
     ]
    }
   ],
   "source": [
    "\n",
    "print(\"\\nMejor configuración:\")\n",
    "print(results_df.iloc[0])"
   ]
  },
  {
   "cell_type": "code",
   "execution_count": 32,
   "id": "d0cd7591",
   "metadata": {},
   "outputs": [],
   "source": [
    "X_full = pd.concat([X_train, X_val])\n",
    "y_full = pd.concat([y_train, y_val])\n",
    "X_test = test_df.drop(columns=[\"Treatment_Type\"])\n",
    "y_test = test_df[\"Treatment_Type\"]"
   ]
  },
  {
   "cell_type": "code",
   "execution_count": 34,
   "id": "55f4240c",
   "metadata": {},
   "outputs": [],
   "source": [
    "for col in X_test.columns:\n",
    "    if pd.api.types.is_datetime64_any_dtype(X_test[col]):\n",
    "        X_test = X_test.drop(columns=[col])\n",
    "        if col in X_full.columns:\n",
    "            X_full = X_full.drop(columns=[col])"
   ]
  },
  {
   "cell_type": "code",
   "execution_count": 35,
   "id": "c5ce0200",
   "metadata": {},
   "outputs": [],
   "source": [
    "X_full = pd.DataFrame(imputer.fit_transform(X_full), columns=X_full.columns)\n",
    "X_test = pd.DataFrame(imputer.transform(X_test), columns=X_test.columns)\n"
   ]
  },
  {
   "cell_type": "code",
   "execution_count": 36,
   "id": "78b60231",
   "metadata": {},
   "outputs": [],
   "source": [
    "best_knn = KNeighborsClassifier(n_neighbors=5, weights='uniform', p=2)\n",
    "best_knn.fit(X_full, y_full)\n",
    "y_pred = best_knn.predict(X_test)"
   ]
  },
  {
   "cell_type": "code",
   "execution_count": 37,
   "id": "e201b1e2",
   "metadata": {},
   "outputs": [
    {
     "name": "stdout",
     "output_type": "stream",
     "text": [
      "Accuracy (KNN) en test: 0.263\n",
      "Reporte de clasificación:\n",
      "                precision    recall  f1-score   support\n",
      "\n",
      " Chemotherapy       0.26      0.34      0.29       499\n",
      "Immunotherapy       0.30      0.33      0.32       511\n",
      "    Radiation       0.28      0.26      0.27       500\n",
      "      Surgery       0.18      0.11      0.14       490\n",
      "\n",
      "     accuracy                           0.26      2000\n",
      "    macro avg       0.25      0.26      0.25      2000\n",
      " weighted avg       0.26      0.26      0.26      2000\n",
      "\n"
     ]
    }
   ],
   "source": [
    "print(\"Accuracy (KNN) en test:\", accuracy_score(y_test, y_pred))\n",
    "print(\"Reporte de clasificación:\\n\", classification_report(y_test, y_pred))"
   ]
  }
 ],
 "metadata": {
  "kernelspec": {
   "display_name": "proyectoIVAN",
   "language": "python",
   "name": "python3"
  },
  "language_info": {
   "codemirror_mode": {
    "name": "ipython",
    "version": 3
   },
   "file_extension": ".py",
   "mimetype": "text/x-python",
   "name": "python",
   "nbconvert_exporter": "python",
   "pygments_lexer": "ipython3",
   "version": "3.11.9"
  }
 },
 "nbformat": 4,
 "nbformat_minor": 5
}
