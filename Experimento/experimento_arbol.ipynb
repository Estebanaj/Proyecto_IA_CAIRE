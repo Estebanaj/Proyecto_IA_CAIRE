{
 "cells": [
  {
   "cell_type": "code",
   "execution_count": 15,
   "id": "af1587b0",
   "metadata": {},
   "outputs": [],
   "source": [
    "import pandas as pd\n",
    "from sklearn.tree import DecisionTreeClassifier\n",
    "from sklearn.metrics import accuracy_score, classification_report\n",
    "from sklearn.model_selection import train_test_split\n",
    "from sklearn.impute import SimpleImputer"
   ]
  },
  {
   "cell_type": "code",
   "execution_count": 9,
   "id": "f319d7f5",
   "metadata": {},
   "outputs": [],
   "source": [
    "train_df = pd.read_excel('../Data/train.xlsx')\n",
    "validation_df = pd.read_excel('../Data/validation.xlsx')\n",
    "test_df = pd.read_excel('../Data/test.xlsx')"
   ]
  },
  {
   "cell_type": "code",
   "execution_count": 10,
   "id": "82191e0f",
   "metadata": {},
   "outputs": [],
   "source": [
    "\n",
    "y_train = train_df['Treatment_Type']\n",
    "X_train = train_df.drop(columns=['Treatment_Type'])\n",
    "y_val = validation_df['Treatment_Type']\n",
    "X_val = validation_df.drop(columns=['Treatment_Type'])\n",
    "\n",
    "for col in X_train.columns:\n",
    "    if pd.api.types.is_datetime64_any_dtype(X_train[col]):\n",
    "        X_train = X_train.drop(columns=[col])\n",
    "        X_val = X_val.drop(columns=[col])\n"
   ]
  },
  {
   "cell_type": "code",
   "execution_count": 11,
   "id": "e7fbe490",
   "metadata": {},
   "outputs": [],
   "source": [
    "depths = [5, 10]\n",
    "criterions = ['gini', 'entropy']\n",
    "min_samples = [2, 5]\n",
    "\n",
    "results = []"
   ]
  },
  {
   "cell_type": "code",
   "execution_count": 12,
   "id": "24b09b4a",
   "metadata": {},
   "outputs": [],
   "source": [
    "\n",
    "# Entrenar modelos con distintas combinaciones de hiperparámetros\n",
    "for depth in depths:\n",
    "    for crit in criterions:\n",
    "        for min_split in min_samples:\n",
    "            model = DecisionTreeClassifier(max_depth=depth, criterion=crit, min_samples_split=min_split, random_state=42)\n",
    "            model.fit(X_train, y_train)\n",
    "            y_pred = model.predict(X_val)\n",
    "            acc = accuracy_score(y_val, y_pred)\n",
    "            results.append({\n",
    "                'max_depth': depth,\n",
    "                'criterion': crit,\n",
    "                'min_samples_split': min_split,\n",
    "                'accuracy': acc\n",
    "            })"
   ]
  },
  {
   "cell_type": "code",
   "execution_count": 13,
   "id": "f6805e51",
   "metadata": {},
   "outputs": [
    {
     "name": "stdout",
     "output_type": "stream",
     "text": [
      "Resultados del experimento con Árbol de Decisión:\n",
      "   max_depth criterion  min_samples_split  accuracy\n",
      "0          5   entropy                  5  0.245625\n",
      "1          5   entropy                  2  0.245625\n",
      "2          5      gini                  5  0.240000\n",
      "3          5      gini                  2  0.239375\n",
      "4         10      gini                  5  0.239375\n",
      "5         10   entropy                  5  0.239375\n",
      "6         10      gini                  2  0.238125\n",
      "7         10   entropy                  2  0.232500\n"
     ]
    }
   ],
   "source": [
    "results_df = pd.DataFrame(results)\n",
    "results_df = results_df.sort_values(by='accuracy', ascending=False).reset_index(drop=True)\n",
    "print(\"Resultados del experimento con Árbol de Decisión:\")\n",
    "print(results_df)"
   ]
  },
  {
   "cell_type": "code",
   "execution_count": 14,
   "id": "96075930",
   "metadata": {},
   "outputs": [
    {
     "name": "stdout",
     "output_type": "stream",
     "text": [
      "\n",
      "Mejor configuración:\n",
      "max_depth                   5\n",
      "criterion             entropy\n",
      "min_samples_split           5\n",
      "accuracy             0.245625\n",
      "Name: 0, dtype: object\n"
     ]
    }
   ],
   "source": [
    "print(\"\\nMejor configuración:\")\n",
    "print(results_df.iloc[0])\n"
   ]
  },
  {
   "cell_type": "code",
   "execution_count": 16,
   "id": "d3beb167",
   "metadata": {},
   "outputs": [],
   "source": [
    "X_full = pd.concat([X_train, X_val])\n",
    "y_full = pd.concat([y_train, y_val])\n",
    "X_test = test_df.drop(columns=[\"Treatment_Type\"])\n",
    "y_test = test_df[\"Treatment_Type\"]"
   ]
  },
  {
   "cell_type": "code",
   "execution_count": 17,
   "id": "175db65b",
   "metadata": {},
   "outputs": [],
   "source": [
    "for col in X_test.columns:\n",
    "    if pd.api.types.is_datetime64_any_dtype(X_test[col]):\n",
    "        X_test = X_test.drop(columns=[col])\n",
    "        if col in X_full.columns:\n",
    "            X_full = X_full.drop(columns=[col])"
   ]
  },
  {
   "cell_type": "code",
   "execution_count": 18,
   "id": "a99055fc",
   "metadata": {},
   "outputs": [],
   "source": [
    "imputer = SimpleImputer(strategy='mean')\n",
    "X_full = pd.DataFrame(imputer.fit_transform(X_full), columns=X_full.columns)\n",
    "X_test = pd.DataFrame(imputer.transform(X_test), columns=X_test.columns)"
   ]
  },
  {
   "cell_type": "code",
   "execution_count": 19,
   "id": "6c47236e",
   "metadata": {},
   "outputs": [],
   "source": [
    "best_tree = DecisionTreeClassifier(max_depth=5, criterion=\"gini\", min_samples_split=2, random_state=42)\n",
    "best_tree.fit(X_full, y_full)\n",
    "y_pred = best_tree.predict(X_test)"
   ]
  },
  {
   "cell_type": "code",
   "execution_count": 20,
   "id": "5fc04e28",
   "metadata": {},
   "outputs": [
    {
     "name": "stdout",
     "output_type": "stream",
     "text": [
      "Accuracy (Árbol de Decisión) en test: 0.2425\n",
      "Reporte de clasificación:\n",
      "                precision    recall  f1-score   support\n",
      "\n",
      " Chemotherapy       0.12      0.01      0.02       499\n",
      "Immunotherapy       0.24      0.11      0.15       511\n",
      "    Radiation       0.24      0.69      0.36       500\n",
      "      Surgery       0.25      0.17      0.20       490\n",
      "\n",
      "     accuracy                           0.24      2000\n",
      "    macro avg       0.22      0.24      0.18      2000\n",
      " weighted avg       0.22      0.24      0.18      2000\n",
      "\n"
     ]
    }
   ],
   "source": [
    "print(\"Accuracy (Árbol de Decisión) en test:\", accuracy_score(y_test, y_pred))\n",
    "print(\"Reporte de clasificación:\\n\", classification_report(y_test, y_pred))"
   ]
  }
 ],
 "metadata": {
  "kernelspec": {
   "display_name": "proyectoIVAN",
   "language": "python",
   "name": "python3"
  },
  "language_info": {
   "codemirror_mode": {
    "name": "ipython",
    "version": 3
   },
   "file_extension": ".py",
   "mimetype": "text/x-python",
   "name": "python",
   "nbconvert_exporter": "python",
   "pygments_lexer": "ipython3",
   "version": "3.11.9"
  }
 },
 "nbformat": 4,
 "nbformat_minor": 5
}
